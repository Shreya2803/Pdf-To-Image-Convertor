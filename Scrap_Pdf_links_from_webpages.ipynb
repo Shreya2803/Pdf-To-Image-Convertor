{
  "nbformat": 4,
  "nbformat_minor": 0,
  "metadata": {
    "colab": {
      "provenance": [],
      "authorship_tag": "ABX9TyNBooRx0M6M+oyuPeXVKup8",
      "include_colab_link": true
    },
    "kernelspec": {
      "name": "python3",
      "display_name": "Python 3"
    },
    "language_info": {
      "name": "python"
    }
  },
  "cells": [
    {
      "cell_type": "markdown",
      "metadata": {
        "id": "view-in-github",
        "colab_type": "text"
      },
      "source": [
        "<a href=\"https://colab.research.google.com/github/Shreya2803/Pdf-To-Image-Convertor/blob/main/Scrap_Pdf_links_from_webpages.ipynb\" target=\"_parent\"><img src=\"https://colab.research.google.com/assets/colab-badge.svg\" alt=\"Open In Colab\"/></a>"
      ]
    },
    {
      "cell_type": "markdown",
      "source": [
        "Importing Python Libraries (Ex :   Beautifulsoup for web scrapping)"
      ],
      "metadata": {
        "id": "xPvzbiLryli-"
      }
    },
    {
      "cell_type": "code",
      "source": [
        "import requests\n",
        "from bs4 import BeautifulSoup\n",
        "import re"
      ],
      "metadata": {
        "id": "hl-oqoNayjp9"
      },
      "execution_count": 1,
      "outputs": []
    },
    {
      "cell_type": "markdown",
      "source": [
        "**Pass the URL of the webpage to scrape**"
      ],
      "metadata": {
        "id": "NIKSqGtZyyPP"
      }
    },
    {
      "cell_type": "code",
      "source": [
        "\n",
        "url = \"https://legislative.gov.in/assamese/\""
      ],
      "metadata": {
        "id": "API6RNjvywZk"
      },
      "execution_count": 2,
      "outputs": []
    },
    {
      "cell_type": "code",
      "execution_count": 3,
      "metadata": {
        "colab": {
          "base_uri": "https://localhost:8080/"
        },
        "id": "zKYOsLpEyg_e",
        "outputId": "dd2b9989-1654-4471-a197-d54af89ee4ec"
      },
      "outputs": [
        {
          "output_type": "stream",
          "name": "stdout",
          "text": [
            "PDF Links:\n",
            "https://cdnbbsr.s3waas.gov.in/s380537a945c7aaa788ccfcdf1b99b5d8f/uploads/2022/12/2022122843-1.pdf\n",
            "https://cdnbbsr.s3waas.gov.in/s380537a945c7aaa788ccfcdf1b99b5d8f/uploads/2023/02/2023021333.pdf\n",
            "https://cdnbbsr.s3waas.gov.in/s380537a945c7aaa788ccfcdf1b99b5d8f/uploads/2023/01/2023010275.pdf\n",
            "https://cdnbbsr.s3waas.gov.in/s380537a945c7aaa788ccfcdf1b99b5d8f/uploads/2023/01/2023010390.pdf\n",
            "https://cdnbbsr.s3waas.gov.in/s380537a945c7aaa788ccfcdf1b99b5d8f/uploads/2023/01/2023010339.pdf\n",
            "https://cdnbbsr.s3waas.gov.in/s380537a945c7aaa788ccfcdf1b99b5d8f/uploads/2023/01/2023010360.pdf\n",
            "https://cdnbbsr.s3waas.gov.in/s380537a945c7aaa788ccfcdf1b99b5d8f/uploads/2023/01/2023010331.pdf\n",
            "https://cdnbbsr.s3waas.gov.in/s380537a945c7aaa788ccfcdf1b99b5d8f/uploads/2023/01/2023010384.pdf\n",
            "https://cdnbbsr.s3waas.gov.in/s380537a945c7aaa788ccfcdf1b99b5d8f/uploads/2023/01/2023010329.pdf\n",
            "https://cdnbbsr.s3waas.gov.in/s380537a945c7aaa788ccfcdf1b99b5d8f/uploads/2023/01/2023010368.pdf\n",
            "https://cdnbbsr.s3waas.gov.in/s380537a945c7aaa788ccfcdf1b99b5d8f/uploads/2023/01/2023010339-1.pdf\n",
            "https://cdnbbsr.s3waas.gov.in/s380537a945c7aaa788ccfcdf1b99b5d8f/uploads/2023/01/2023010334.pdf\n",
            "https://cdnbbsr.s3waas.gov.in/s380537a945c7aaa788ccfcdf1b99b5d8f/uploads/2023/01/2023010394.pdf\n",
            "https://cdnbbsr.s3waas.gov.in/s380537a945c7aaa788ccfcdf1b99b5d8f/uploads/2023/01/2023010393.pdf\n",
            "https://cdnbbsr.s3waas.gov.in/s380537a945c7aaa788ccfcdf1b99b5d8f/uploads/2023/01/2023010395.pdf\n",
            "https://cdnbbsr.s3waas.gov.in/s380537a945c7aaa788ccfcdf1b99b5d8f/uploads/2023/01/2023010379.pdf\n",
            "https://cdnbbsr.s3waas.gov.in/s380537a945c7aaa788ccfcdf1b99b5d8f/uploads/2023/01/2023010366.pdf\n",
            "https://cdnbbsr.s3waas.gov.in/s380537a945c7aaa788ccfcdf1b99b5d8f/uploads/2023/01/2023010348.pdf\n",
            "https://cdnbbsr.s3waas.gov.in/s380537a945c7aaa788ccfcdf1b99b5d8f/uploads/2023/01/2023010371.pdf\n",
            "https://cdnbbsr.s3waas.gov.in/s380537a945c7aaa788ccfcdf1b99b5d8f/uploads/2023/01/2023010385.pdf\n",
            "https://cdnbbsr.s3waas.gov.in/s380537a945c7aaa788ccfcdf1b99b5d8f/uploads/2023/01/2023010362.pdf\n",
            "https://cdnbbsr.s3waas.gov.in/s380537a945c7aaa788ccfcdf1b99b5d8f/uploads/2023/01/2023010396.pdf\n",
            "https://cdnbbsr.s3waas.gov.in/s380537a945c7aaa788ccfcdf1b99b5d8f/uploads/2023/01/2023010365.pdf\n",
            "https://cdnbbsr.s3waas.gov.in/s380537a945c7aaa788ccfcdf1b99b5d8f/uploads/2023/01/2023010312.pdf\n",
            "https://cdnbbsr.s3waas.gov.in/s380537a945c7aaa788ccfcdf1b99b5d8f/uploads/2023/01/2023010397.pdf\n",
            "https://cdnbbsr.s3waas.gov.in/s380537a945c7aaa788ccfcdf1b99b5d8f/uploads/2023/01/2023010367.pdf\n",
            "https://cdnbbsr.s3waas.gov.in/s380537a945c7aaa788ccfcdf1b99b5d8f/uploads/2023/01/2023010344.pdf\n",
            "https://cdnbbsr.s3waas.gov.in/s380537a945c7aaa788ccfcdf1b99b5d8f/uploads/2023/01/2023010374.pdf\n",
            "https://cdnbbsr.s3waas.gov.in/s380537a945c7aaa788ccfcdf1b99b5d8f/uploads/2023/01/2023010364.pdf\n",
            "https://cdnbbsr.s3waas.gov.in/s380537a945c7aaa788ccfcdf1b99b5d8f/uploads/2023/01/2023010357.pdf\n",
            "https://cdnbbsr.s3waas.gov.in/s380537a945c7aaa788ccfcdf1b99b5d8f/uploads/2023/01/2023010332.pdf\n",
            "https://cdnbbsr.s3waas.gov.in/s380537a945c7aaa788ccfcdf1b99b5d8f/uploads/2023/01/2023010338.pdf\n",
            "https://cdnbbsr.s3waas.gov.in/s380537a945c7aaa788ccfcdf1b99b5d8f/uploads/2023/01/2023010385-1.pdf\n",
            "https://cdnbbsr.s3waas.gov.in/s380537a945c7aaa788ccfcdf1b99b5d8f/uploads/2023/01/2023010393-1.pdf\n",
            "https://cdnbbsr.s3waas.gov.in/s380537a945c7aaa788ccfcdf1b99b5d8f/uploads/2023/01/2023010351.pdf\n",
            "https://cdnbbsr.s3waas.gov.in/s380537a945c7aaa788ccfcdf1b99b5d8f/uploads/2023/01/2023010332-1.pdf\n",
            "https://cdnbbsr.s3waas.gov.in/s380537a945c7aaa788ccfcdf1b99b5d8f/uploads/2023/01/2023010311.pdf\n",
            "https://cdnbbsr.s3waas.gov.in/s380537a945c7aaa788ccfcdf1b99b5d8f/uploads/2023/01/2023010396-1.pdf\n",
            "https://cdnbbsr.s3waas.gov.in/s380537a945c7aaa788ccfcdf1b99b5d8f/uploads/2023/01/2023010317.pdf\n",
            "https://cdnbbsr.s3waas.gov.in/s380537a945c7aaa788ccfcdf1b99b5d8f/uploads/2023/01/2023010366-1.pdf\n",
            "https://cdnbbsr.s3waas.gov.in/s380537a945c7aaa788ccfcdf1b99b5d8f/uploads/2023/01/2023010395-1.pdf\n",
            "https://cdnbbsr.s3waas.gov.in/s380537a945c7aaa788ccfcdf1b99b5d8f/uploads/2023/01/2023010383.pdf\n",
            "https://cdnbbsr.s3waas.gov.in/s380537a945c7aaa788ccfcdf1b99b5d8f/uploads/2023/01/2023010377.pdf\n",
            "https://cdnbbsr.s3waas.gov.in/s380537a945c7aaa788ccfcdf1b99b5d8f/uploads/2023/01/2023010370.pdf\n",
            "https://cdnbbsr.s3waas.gov.in/s380537a945c7aaa788ccfcdf1b99b5d8f/uploads/2023/01/2023010353.pdf\n",
            "https://cdnbbsr.s3waas.gov.in/s380537a945c7aaa788ccfcdf1b99b5d8f/uploads/2023/01/2023010385-2.pdf\n",
            "https://cdnbbsr.s3waas.gov.in/s380537a945c7aaa788ccfcdf1b99b5d8f/uploads/2023/01/2023010394-1.pdf\n",
            "https://cdnbbsr.s3waas.gov.in/s380537a945c7aaa788ccfcdf1b99b5d8f/uploads/2023/01/2023010325.pdf\n",
            "https://cdnbbsr.s3waas.gov.in/s380537a945c7aaa788ccfcdf1b99b5d8f/uploads/2023/01/2023010318.pdf\n",
            "https://cdnbbsr.s3waas.gov.in/s380537a945c7aaa788ccfcdf1b99b5d8f/uploads/2023/01/2023010387.pdf\n",
            "https://cdnbbsr.s3waas.gov.in/s380537a945c7aaa788ccfcdf1b99b5d8f/uploads/2023/01/2023010345.pdf\n",
            "https://cdnbbsr.s3waas.gov.in/s380537a945c7aaa788ccfcdf1b99b5d8f/uploads/2023/01/2023010367-1.pdf\n",
            "https://cdnbbsr.s3waas.gov.in/s380537a945c7aaa788ccfcdf1b99b5d8f/uploads/2023/01/2023010381.pdf\n",
            "https://cdnbbsr.s3waas.gov.in/s380537a945c7aaa788ccfcdf1b99b5d8f/uploads/2023/01/2023010325-1.pdf\n",
            "https://cdnbbsr.s3waas.gov.in/s380537a945c7aaa788ccfcdf1b99b5d8f/uploads/2023/01/2023010351-1.pdf\n",
            "https://cdnbbsr.s3waas.gov.in/s380537a945c7aaa788ccfcdf1b99b5d8f/uploads/2023/01/2023010394-2.pdf\n",
            "https://lddashboard.legislative.gov.in/sites/default/files/the%20Indian%20Penal%20Code%201860%20%2845%20of%201860%29.pdf\n",
            "https://cdnbbsr.s3waas.gov.in/s380537a945c7aaa788ccfcdf1b99b5d8f/uploads/2023/01/2023010394-3.pdf\n",
            "https://cdnbbsr.s3waas.gov.in/s380537a945c7aaa788ccfcdf1b99b5d8f/uploads/2023/01/2023010345-1.pdf\n",
            "https://cdnbbsr.s3waas.gov.in/s380537a945c7aaa788ccfcdf1b99b5d8f/uploads/2023/01/2023010395-2.pdf\n",
            "https://cdnbbsr.s3waas.gov.in/s380537a945c7aaa788ccfcdf1b99b5d8f/uploads/2023/01/2023010349.pdf\n",
            "https://cdnbbsr.s3waas.gov.in/s380537a945c7aaa788ccfcdf1b99b5d8f/uploads/2023/01/2023010340.pdf\n",
            "https://cdnbbsr.s3waas.gov.in/s380537a945c7aaa788ccfcdf1b99b5d8f/uploads/2023/01/2023010328.pdf\n",
            "https://cdnbbsr.s3waas.gov.in/s380537a945c7aaa788ccfcdf1b99b5d8f/uploads/2023/01/2023010349-1.pdf\n",
            "https://cdnbbsr.s3waas.gov.in/s380537a945c7aaa788ccfcdf1b99b5d8f/uploads/2023/01/2023010334-1.pdf\n",
            "https://cdnbbsr.s3waas.gov.in/s380537a945c7aaa788ccfcdf1b99b5d8f/uploads/2023/01/2023010387-1.pdf\n",
            "https://cdnbbsr.s3waas.gov.in/s380537a945c7aaa788ccfcdf1b99b5d8f/uploads/2023/01/2023010311-1.pdf\n",
            "https://cdnbbsr.s3waas.gov.in/s380537a945c7aaa788ccfcdf1b99b5d8f/uploads/2023/01/2023010361.pdf\n",
            "https://cdnbbsr.s3waas.gov.in/s380537a945c7aaa788ccfcdf1b99b5d8f/uploads/2023/01/2023010320.pdf\n",
            "https://cdnbbsr.s3waas.gov.in/s380537a945c7aaa788ccfcdf1b99b5d8f/uploads/2023/01/2023010393-2.pdf\n",
            "https://cdnbbsr.s3waas.gov.in/s380537a945c7aaa788ccfcdf1b99b5d8f/uploads/2023/01/2023010326.pdf\n",
            "https://cdnbbsr.s3waas.gov.in/s380537a945c7aaa788ccfcdf1b99b5d8f/uploads/2023/01/2023010316.pdf\n",
            "https://cdnbbsr.s3waas.gov.in/s380537a945c7aaa788ccfcdf1b99b5d8f/uploads/2023/01/2023010388.pdf\n",
            "https://cdnbbsr.s3waas.gov.in/s380537a945c7aaa788ccfcdf1b99b5d8f/uploads/2023/06/2023061258.pdf\n"
          ]
        }
      ],
      "source": [
        "\n",
        "\n",
        "# Send an HTTP GET request to the webpage\n",
        "response = requests.get(url)\n",
        "\n",
        "# Send an HTTP GET request to the webpage\n",
        "response = requests.get(url)\n",
        "\n",
        "# Check if the request was successful\n",
        "if response.status_code == 200:\n",
        "    # Parse the HTML content of the webpage\n",
        "    soup = BeautifulSoup(response.text, \"html.parser\")\n",
        "\n",
        "    # Find all <a> tags (hyperlinks) in the HTML\n",
        "    links = soup.find_all(\"a\")\n",
        "\n",
        "    # Initialize a list to store PDF links\n",
        "    pdf_urls = []\n",
        "\n",
        "    # Regular expression pattern to match PDF links\n",
        "    pdf_pattern = re.compile(r\".*\\.pdf$\")\n",
        "\n",
        "    # Iterate through the links and filter out PDF links\n",
        "    for link in links:\n",
        "        href = link.get(\"href\")\n",
        "        if href:\n",
        "            # Construct the absolute URL if the href is a relative URL\n",
        "            if not href.startswith(\"http\"):\n",
        "                href = url + href\n",
        "            if pdf_pattern.match(href):\n",
        "                pdf_urls.append(href)\n",
        "\n",
        "    # Print the total number of links generated\n",
        "    total_links = len(links)\n",
        "\n",
        "\n",
        "    # Print the list of PDF links\n",
        "    print(\"PDF Links:\")\n",
        "    # for pdf_link in pdf_urls:\n",
        "    #     print(pdf_link)\n",
        "    unique_links = set()\n",
        "\n",
        "    for pdf_link in pdf_urls:\n",
        "        if pdf_link not in unique_links:\n",
        "            print(pdf_link)\n",
        "            unique_links.add(pdf_link)\n",
        "\n",
        "else:\n",
        "    print(f\"Failed to fetch the webpage. Status code: {response.status_code}\")"
      ]
    },
    {
      "cell_type": "markdown",
      "source": [
        "Count total number pf pdf links that have been scrapped:"
      ],
      "metadata": {
        "id": "P5DZEa2qy5Aa"
      }
    },
    {
      "cell_type": "code",
      "source": [
        "print(len(pdf_urls))"
      ],
      "metadata": {
        "colab": {
          "base_uri": "https://localhost:8080/"
        },
        "id": "3VwGn8EJzHto",
        "outputId": "7daf02fe-1868-4e85-9d60-873173c83890"
      },
      "execution_count": 4,
      "outputs": [
        {
          "output_type": "stream",
          "name": "stdout",
          "text": [
            "74\n"
          ]
        }
      ]
    }
  ]
}