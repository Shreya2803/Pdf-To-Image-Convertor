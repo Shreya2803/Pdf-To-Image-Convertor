{
  "nbformat": 4,
  "nbformat_minor": 0,
  "metadata": {
    "colab": {
      "provenance": [],
      "include_colab_link": true
    },
    "kernelspec": {
      "name": "python3",
      "display_name": "Python 3"
    },
    "language_info": {
      "name": "python"
    }
  },
  "cells": [
    {
      "cell_type": "markdown",
      "metadata": {
        "id": "view-in-github",
        "colab_type": "text"
      },
      "source": [
        "<a href=\"https://colab.research.google.com/github/Shreya2803/Pdf-To-Image-Convertor/blob/main/PDF2Image.ipynb\" target=\"_parent\"><img src=\"https://colab.research.google.com/assets/colab-badge.svg\" alt=\"Open In Colab\"/></a>"
      ]
    },
    {
      "cell_type": "code",
      "source": [
        "from google.colab import drive\n",
        "drive.mount('/content/drive')"
      ],
      "metadata": {
        "id": "mukd0zVjThBs",
        "colab": {
          "base_uri": "https://localhost:8080/"
        },
        "outputId": "e0369271-e065-49da-cdec-8b00f85b402a"
      },
      "execution_count": null,
      "outputs": [
        {
          "output_type": "stream",
          "name": "stdout",
          "text": [
            "Mounted at /content/drive\n"
          ]
        }
      ]
    },
    {
      "cell_type": "markdown",
      "source": [
        "**Importing Essential Python Libraries**"
      ],
      "metadata": {
        "id": "DKeNL6UFouVd"
      }
    },
    {
      "cell_type": "code",
      "source": [
        "'''\n",
        "PyPDF2: A Python library to work with PDF files.\n",
        "pdf2image: A Python library to convert PDF pages to images.\n",
        "poppler-utils: This provides a collection of tools built using the Poppler library for working with PDF files.\n",
        "'''\n",
        "!pip3 install PyPDF2 pdf2image\n",
        "!sudo apt-get install poppler-utils\n"
      ],
      "metadata": {
        "id": "aHA1yMC2yqXO",
        "colab": {
          "base_uri": "https://localhost:8080/"
        },
        "outputId": "75d02c62-89b7-4c14-9452-508e484e1343"
      },
      "execution_count": null,
      "outputs": [
        {
          "output_type": "stream",
          "name": "stdout",
          "text": [
            "Collecting PyPDF2\n",
            "  Downloading pypdf2-3.0.1-py3-none-any.whl (232 kB)\n",
            "\u001b[2K     \u001b[90m━━━━━━━━━━━━━━━━━━━━━━━━━━━━━━━━━━━━━━━━\u001b[0m \u001b[32m232.6/232.6 kB\u001b[0m \u001b[31m3.4 MB/s\u001b[0m eta \u001b[36m0:00:00\u001b[0m\n",
            "\u001b[?25hCollecting pdf2image\n",
            "  Downloading pdf2image-1.16.3-py3-none-any.whl (11 kB)\n",
            "Requirement already satisfied: pillow in /usr/local/lib/python3.10/dist-packages (from pdf2image) (9.4.0)\n",
            "Installing collected packages: PyPDF2, pdf2image\n",
            "Successfully installed PyPDF2-3.0.1 pdf2image-1.16.3\n",
            "Reading package lists... Done\n",
            "Building dependency tree... Done\n",
            "Reading state information... Done\n",
            "The following NEW packages will be installed:\n",
            "  poppler-utils\n",
            "0 upgraded, 1 newly installed, 0 to remove and 9 not upgraded.\n",
            "Need to get 186 kB of archives.\n",
            "After this operation, 696 kB of additional disk space will be used.\n",
            "Get:1 http://archive.ubuntu.com/ubuntu jammy-updates/main amd64 poppler-utils amd64 22.02.0-2ubuntu0.2 [186 kB]\n",
            "Fetched 186 kB in 2s (74.8 kB/s)\n",
            "debconf: unable to initialize frontend: Dialog\n",
            "debconf: (No usable dialog-like program is installed, so the dialog based frontend cannot be used. at /usr/share/perl5/Debconf/FrontEnd/Dialog.pm line 78, <> line 1.)\n",
            "debconf: falling back to frontend: Readline\n",
            "debconf: unable to initialize frontend: Readline\n",
            "debconf: (This frontend requires a controlling tty.)\n",
            "debconf: falling back to frontend: Teletype\n",
            "dpkg-preconfigure: unable to re-open stdin: \n",
            "Selecting previously unselected package poppler-utils.\n",
            "(Reading database ... 120880 files and directories currently installed.)\n",
            "Preparing to unpack .../poppler-utils_22.02.0-2ubuntu0.2_amd64.deb ...\n",
            "Unpacking poppler-utils (22.02.0-2ubuntu0.2) ...\n",
            "Setting up poppler-utils (22.02.0-2ubuntu0.2) ...\n",
            "Processing triggers for man-db (2.10.2-1) ...\n"
          ]
        }
      ]
    },
    {
      "cell_type": "markdown",
      "source": [
        "# **For External PDF Links**<br>\n",
        "Pass the pdf links(many number of  links can also be given via list to save time ,but the links have to be from same website ) and converts each pdf to images automatically .\n",
        "( cons :\n",
        "1. Not all pdf links give access to do this part ,so in that case the pdf has to downloaded and then can be converted by ' From Local Machine/Gdrive /Downloaded PDF ' code\n",
        "2. In case of larger size pdfs ,it is suggested to only pass 3 -4 links in list .\n",
        ")\n"
      ],
      "metadata": {
        "id": "G9KpoWPxU3NU"
      }
    },
    {
      "cell_type": "code",
      "source": [
        "import cv2\n",
        "from pdf2image import convert_from_path, convert_from_bytes\n",
        "import numpy as np\n",
        " # Import cv2_imshow for Colab\n",
        "from google.colab.patches import cv2_imshow\n",
        "import PyPDF2\n",
        "from PIL import Image\n",
        "import pandas as pd\n",
        "import os\n",
        "import io\n",
        "import requests\n",
        "import requests\n",
        "from pdf2image import convert_from_bytes"
      ],
      "metadata": {
        "id": "eKtDIVvVU6N-"
      },
      "execution_count": null,
      "outputs": []
    },
    {
      "cell_type": "markdown",
      "source": [
        "1) Update the below variable name according to the folder/category name ( Ex : Newspaper , Textbook , Journal etc)\n",
        "<br>\n",
        "2) Update the number as well after each chunks of pdf conversion . (Ex : Suppose 20 images have been saved in the gdrive /local sorage. Update the variable and assign value 21 after checking how many images were saved, Continue this variable assignment after each iteration )"
      ],
      "metadata": {
        "id": "vepCfCfNpFZK"
      }
    },
    {
      "cell_type": "code",
      "source": [
        "TextBook=1"
      ],
      "metadata": {
        "id": "PPCuZFRQgSX0"
      },
      "execution_count": null,
      "outputs": []
    },
    {
      "cell_type": "code",
      "source": [
        "pdf_urls = [\n",
        "\n",
        "\n",
        "\"https://bari.gov.bd/sites/default/files/files/bari.portal.gov.bd/common_document/3e24b930_52b0_4a01_bf8d_ddefc8712d4c/2023-10-31-10-15-542de6f60db3ee05764a2a5b236e9255.pdf\",\n",
        "\"http://bv-f.org/assets/article/bv/2/10.pdf\"\n",
        "\"https://wb.gov.in/pdf/documents/Royal%20Bengal%20Tiger%20Safari.pdf\",\n",
        "\n",
        "\n",
        "]\n"
      ],
      "metadata": {
        "id": "2dv7pZzJgJj4"
      },
      "execution_count": null,
      "outputs": []
    },
    {
      "cell_type": "code",
      "source": [
        "'''\n",
        "Validates each url from the list .\n",
        "Converts each page of the pdf into numpy array and detects layout of each page.\n",
        "Converted page of a document  are saved into individual JPG images at in drive/pc.\n",
        "'''\n",
        "for pdf_file in pdf_urls:\n",
        "    # Send an HTTP request to the PDF URL\n",
        "    response = requests.get(pdf_file)\n",
        "\n",
        "    # Check if the request was successful\n",
        "    if response.status_code == 200:\n",
        "        # Convert the PDF bytes to images\n",
        "        images = convert_from_bytes(response.content)\n",
        "        for page_number, image in enumerate(images):\n",
        "            # Convert the PpmImageFile object to a NumPy array\n",
        "            image = np.array(image)\n",
        "\n",
        "            # Convert the image from BGR (cv2 default loading style) to RGB\n",
        "            image = image[..., ::-1]\n",
        "            height, width, _ = image.shape\n",
        "            new_height = int(height * 1.8)  # Increase the height by 20%\n",
        "            new_width = int(width * 1.8)    # Increase the width by 20%\n",
        "            image = cv2.resize(image, (new_width, new_height))\n",
        "            jpg_layout_without_filter = f\"/content/drive/MyDrive/OCR/Images/TextBook/TextBook_{TextBook}_{page_number + 1}.jpg\"\n",
        "            cv2.imwrite(jpg_layout_without_filter, image)\n",
        "    TextBook+=1\n"
      ],
      "metadata": {
        "id": "t_fwPb9FSSKo"
      },
      "execution_count": null,
      "outputs": []
    },
    {
      "cell_type": "markdown",
      "source": [
        "# **From Local Machine/Gdrive / Downloaded PDF **\n",
        "In case the 'For External PDF Links' code doesn't work ,because some webpage doesn't give access ,download the pdf .\n",
        "And pass the pdf path in the code ( multiple pdf path can be passed in list to save time ) and the code converts it to images and saves it in user given directory path .\n",
        "(Cons : It is suggested to pass 5-6 pdfs in list for small sized pdfs and upto 3 pdfs in larger sized pdfs (upto 25 mb of each file size) in case of google collab without pro version)\n"
      ],
      "metadata": {
        "id": "8s4bDPXx_zqJ"
      }
    },
    {
      "cell_type": "code",
      "source": [
        "from pdf2image import convert_from_bytes\n",
        "import cv2\n",
        "import numpy as np\n",
        "import io\n"
      ],
      "metadata": {
        "id": "11AaaYjK_5UO"
      },
      "execution_count": null,
      "outputs": []
    },
    {
      "cell_type": "markdown",
      "source": [
        "1) Update the below variable name according to the folder/category name ( Ex : Newspaper , Textbook , Journal etc)\n",
        "<br>\n",
        "2) Update the number as well after each chunks of pdf conversion . (Ex : Suppose 20 images have been saved in the gdrive /local sorage. Update the variable and assign value 21 after checking how many images were saved, Continue this variable assignment after each iteration )"
      ],
      "metadata": {
        "id": "EDaBhtmlrsSr"
      }
    },
    {
      "cell_type": "code",
      "source": [
        "TextBook=1"
      ],
      "metadata": {
        "id": "scshlkSHATdZ"
      },
      "execution_count": null,
      "outputs": []
    },
    {
      "cell_type": "code",
      "source": [
        "\n",
        "# List of PDF file paths in your Google Drive\n",
        "pdf_file_paths = [\n",
        "    \"/content/drive/MyDrive/OCR/samples/Etc_Anandabazar_02-11-2023.pdf\",\n",
        "\n",
        "    ]"
      ],
      "metadata": {
        "id": "6H3KS-9n_7C4"
      },
      "execution_count": null,
      "outputs": []
    },
    {
      "cell_type": "code",
      "source": [
        "'''\n",
        "Convert each PDF from the given paths to images.\n",
        "Then, for each page in the PDF:\n",
        "- Convert BGR image to RGB.\n",
        "- Resize the image dimensions by 20%.\n",
        "'''\n",
        "\n",
        "\n",
        "for pdf_file_path in pdf_file_paths:\n",
        "    # Convert the PDF to images\n",
        "    images = convert_from_path(pdf_file_path)\n",
        "    for page_number, image in enumerate(images):\n",
        "        image = np.array(image)\n",
        "        image = image[..., ::-1]  # Convert BGR to RGB\n",
        "\n",
        "        # Resize the image to make it longer and wider\n",
        "        height, width, _ = image.shape\n",
        "        new_height = int(height * 1.2)  # Increase the height by 20%\n",
        "        new_width = int(width * 1.2)    # Increase the width by 20%\n",
        "        image = cv2.resize(image, (new_width, new_height))\n",
        "\n",
        "        # Save the image back to Google Drive\n",
        "        output_file_path = f'/content/drive/MyDrive/OCR/Images_Assamese/TextBook/TextBook_{TextBook}_{page_number + 1}.jpg'\n",
        "        cv2.imwrite(output_file_path, image)\n",
        "    TextBook+=1\n"
      ],
      "metadata": {
        "id": "Ok0Sudjo_29f"
      },
      "execution_count": null,
      "outputs": []
    },
    {
      "cell_type": "markdown",
      "source": [
        "**Count of files :** <br>\n",
        "   Gives total count of images getting saved in each directory. This can be checked occasionally to get the total counts .\n"
      ],
      "metadata": {
        "id": "extsTzYZrudg"
      }
    },
    {
      "cell_type": "code",
      "source": [
        "import os\n",
        "\n",
        "folder_path = '/content/drive/MyDrive/OCR/Images_Bengali/Publication'  # Replace with the actual path to your folder\n",
        "file_count = len([f for f in os.listdir(folder_path) if os.path.isfile(os.path.join(folder_path, f))])\n",
        "\n",
        "print(f'The number of files in the folder is: {file_count}')\n"
      ],
      "metadata": {
        "colab": {
          "base_uri": "https://localhost:8080/"
        },
        "id": "S8L_N5EokF_e",
        "outputId": "d22ce339-f12e-4c0a-a50f-20e2f5b2623b"
      },
      "execution_count": null,
      "outputs": [
        {
          "output_type": "stream",
          "name": "stdout",
          "text": [
            "The number of files in the folder is: 301\n"
          ]
        }
      ]
    }
  ]
}